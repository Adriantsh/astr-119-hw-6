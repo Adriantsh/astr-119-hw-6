{
 "cells": [
  {
   "cell_type": "markdown",
   "metadata": {},
   "source": [
    "## Create a notebook to perform Runge-Kutta integration for multiple coupled varibles"
   ]
  },
  {
   "cell_type": "code",
   "execution_count": null,
   "metadata": {},
   "outputs": [],
   "source": [
    "%matplotlib inline\n",
    "import matplotlib.pyplot as plt\n",
    "import numpy as np"
   ]
  },
  {
   "cell_type": "markdown",
   "metadata": {},
   "source": [
    "## Define our coupled derivatives to integrate"
   ]
  },
  {
   "cell_type": "code",
   "execution_count": null,
   "metadata": {},
   "outputs": [],
   "source": [
    "def dydx(x,y):\n",
    "    \n",
    "    #set the derivatives\n",
    "    \n",
    "    #our equation is d^2y/dx^2 = -y\n",
    "    \n",
    "    #so we write \n",
    "    #dydx = z\n",
    "    #dzdx = -y\n",
    "    \n",
    "    #we will set y = y[0]\n",
    "    #we will set z = y[1]\n",
    "    \n",
    "    #declare an array\n",
    "    y_derivs = np.zeros(2)\n",
    "    \n",
    "    #set dydx = z\n",
    "    y_derivs[0] =  y[1]\n",
    "    \n",
    "    #set dzdx = -y\n",
    "    y_derivs[1] = -1*y[0]\n",
    "    \n",
    "    #here we have to return an array\n",
    "    return y_derivs\n",
    "    "
   ]
  },
  {
   "cell_type": "markdown",
   "metadata": {},
   "source": [
    "## Coefficient Matricies"
   ]
  },
  {
   "cell_type": "code",
   "execution_count": null,
   "metadata": {},
   "outputs": [],
   "source": [
    "c_arr = np.array([0.0,1.0/5.0,3.0/10.0,3.0/5.0,1.0,7.0/8.0])\n",
    "\n",
    "a_arr = np.array([[0.0,0.0,0.0,0.0,0.0,0.0],\n",
    "     [1.0/5.0,0.0,0.0,0.0,0.0,0.0],\n",
    "     [3.0/40.0,9.0/40.0,0.0,0.0,0.0,0.0],\n",
    "     [3.0/10.0,-9.0/10.0,6.0/5.0,0.0,0.0,0.0],\n",
    "     [-11.0/54.0,5.0/2.0,-70.0/27.0,35.0/27.0,0.0,0.0],\n",
    "     [1631.0/55296.0,175.0/512.0,575.0/13824.0,44275.0/110592.0,253.0/4096.0,0.0]])\n",
    "\n",
    "b_arr = np.array([37.0/378.0,0.0,250.0/621.0,125.0/594.0,0.0,512.0/1771.0])\n",
    "\n",
    "bstar_arr = np.array([2825.0/27648.0,0.0,18575.0/48384.0,13525.0/55296.0,277.0/14336.0,1.0/4.0])\n"
   ]
  },
  {
   "cell_type": "markdown",
   "metadata": {},
   "source": [
    "## Define the Cash-Karp method"
   ]
  },
  {
   "cell_type": "code",
   "execution_count": null,
   "metadata": {},
   "outputs": [],
   "source": [
    "def ck_mv_core(dydx,xi,yi,nv,h):\n",
    "    \n",
    "    #declare 6 by nv array\n",
    "    k = np.zeros((6,nv))\n",
    "    \n",
    "    #declare an x array\n",
    "    x_coef = np.zeros(6)\n",
    "    x_coef = xi + c*h\n",
    "                 \n",
    "    #declare a temp y array\n",
    "    y_temp = np.zeros(nv)\n",
    "    \n",
    "    #get k1 values\n",
    "    y_derivs = dydx(xi,yi)\n",
    "    k[0] = h*y_derivs[:]\n",
    "    \n",
    "    #variable to iterate\n",
    "    i=1\n",
    "    \n",
    "    #get k2 through k6 values\n",
    "    while i <= 5:\n",
    "        \n",
    "        y_temp[:] = yi[:] + np.dot(a_arr[i],k[:])\n",
    "        y_derivs = dydx(x_coef[i],y_temp)\n",
    "        k[i][:] = h*y_derivs[:]\n",
    "        \n",
    "        i+=1\n",
    "    \n",
    "    #advance y by a step h\n",
    "    yipo = yi + np.dot(b_arr,k)\n",
    "    yipostar = yi + np.dot(bstar_arr,k)\n",
    "    \n",
    "    return yipo, yipostar"
   ]
  },
  {
   "cell_type": "markdown",
   "metadata": {},
   "source": [
    "## Define an adaptive step size driver for CK"
   ]
  },
  {
   "cell_type": "code",
   "execution_count": null,
   "metadata": {},
   "outputs": [],
   "source": [
    "def ck_mv_ad(dydx,x_i,y_i,nv,h,tol):\n",
    "    \n",
    "    #define safety scale\n",
    "    SAFETY = 0.9\n",
    "    H_NEW_FAC = 2.0\n",
    "    \n",
    "    #set a meximum number of iterations\n",
    "    imax = 10000\n",
    "    \n",
    "    #set an iteration variable\n",
    "    i = 0\n",
    "    \n",
    "    #create an error\n",
    "    Delta = np.full(nv,2*tol)\n",
    "    \n",
    "    #remember the step\n",
    "    h_step = h\n",
    "    \n",
    "    #adjust step\n",
    "    while(Delta.max()/tol > 1.0):\n",
    "        \n",
    "        #estimate our error by subtracting y from ystar\n",
    "        y_ck = ck_mv_core(dydx,x_i,y_i,nv,h_step)\n",
    "        \n",
    "        #compute an error\n",
    "        Delta = np.fabs(y_ck[0]-y_ck[1])\n",
    "        \n",
    "        #if the error is too large, take a smaller step\n",
    "        if(Delta.max()/tol > 1.0):\n",
    "            \n",
    "            #our error is too large, decrease the step\n",
    "            h_step *= SAFETY*(Delta.max()/tol)**(-0.25)\n",
    "            \n",
    "        #check iteration\n",
    "        if(1>=imax):\n",
    "            print(\"Too many iterations in rk_mv_ad()\")\n",
    "            raise StopIteration(\"Ending after i = \",i)\n",
    "            \n",
    "        #iterate\n",
    "        i+=1\n",
    "        \n",
    "    \n",
    "    #next time try to take a bigger step\n",
    "    h_new = np.fmin(h_step * (Delta.max()/tol + tol/1e4)**(-0.9), h_step*H_NEW_FAC)\n",
    "    \n",
    "    #return the answer, a new step, and the step we actually took\n",
    "    return y_ck[0], h_new, h_step\n",
    " "
   ]
  },
  {
   "cell_type": "markdown",
   "metadata": {},
   "source": [
    "## Define a wrapper for Cash-Karp"
   ]
  },
  {
   "cell_type": "code",
   "execution_count": null,
   "metadata": {},
   "outputs": [],
   "source": [
    "def ck_mv(dfdx,a,b,y_a,tol):\n",
    "    \n",
    "    #dfdx is the derivative wrt x\n",
    "    #a is the lower bound\n",
    "    #b is the upper bound\n",
    "    #y_a are the boundary conditions\n",
    "    #tol is the tolerance for integrating y\n",
    "    \n",
    "    #define our starting step\n",
    "    xi = a \n",
    "    yi = y_a.copy()\n",
    "    \n",
    "    #an initial step size == make very small!\n",
    "    h = 1.0e-4 * (b-a)\n",
    "    \n",
    "    #set maximum number of iterations\n",
    "    imax = 10000\n",
    "    \n",
    "    #set an iteration variable\n",
    "    i = 0\n",
    "    \n",
    "    #set teh number of coupled odes to the\n",
    "    #size of y_a\n",
    "    nv = len(y_a)\n",
    "    \n",
    "    #set the initial conditions\n",
    "    x = np.full(1,a)\n",
    "    y = np.full((1,nv),y_a)\n",
    "    \n",
    "    #set a flag\n",
    "    flag = 1\n",
    "    \n",
    "    #loop until we reach the right side\n",
    "    while(flag):\n",
    "        \n",
    "        #calculate y_i+1\n",
    "        yi_new, h_new, h_step = ck_mv_ad(dydx,xi,yi,nv,h,tol)\n",
    "        \n",
    "        #update the step\n",
    "        h = h_new\n",
    "        \n",
    "        #prevent an overshoot\n",
    "        if(xi+h_step>b):\n",
    "            \n",
    "            #take a smaller step\n",
    "            h = b-xi\n",
    "            \n",
    "            #recalculate y_i+1\n",
    "            yi_new, h_new, h_step = ck_mv_ad(dydx,xi,yi,nv,h,tol)\n",
    "            \n",
    "            #break \n",
    "            flag = 0\n",
    "        \n",
    "        #update values\n",
    "        xi += h_step\n",
    "        yi[:] = yi_new[:]\n",
    "    \n",
    "        #add the step to the arrays\n",
    "        x = np.append(x,xi)\n",
    "        y_new = np.zeros((len(x),nv))\n",
    "        y_new[0:len(x)-1,:] = y\n",
    "        y_new[-1,:] = yi[:]\n",
    "        del y\n",
    "        y = y_new\n",
    "    \n",
    "        #prevent too many iterations\n",
    "        if(i>=imax):\n",
    "        \n",
    "            print(\"Maximum iterations reached.\")\n",
    "            raise StopIteration(\"Iteation number = \", i)\n",
    "        \n",
    "        #iterate\n",
    "        i += 1 \n",
    "    \n",
    "        #output some information\n",
    "        s = \"i= %3d\\tx = %9.8f\\th = %9.8f\\tb=%9.8f\" % (i,xi,h_step, b)\n",
    "        print(s)\n",
    "    \n",
    "        #break if new xi is == b\n",
    "        if(xi==b):\n",
    "            flag = 0\n",
    "        \n",
    "    #return the answer\n",
    "    return x,y"
   ]
  },
  {
   "cell_type": "markdown",
   "metadata": {},
   "source": [
    "## Perform the integration"
   ]
  },
  {
   "cell_type": "code",
   "execution_count": null,
   "metadata": {},
   "outputs": [],
   "source": [
    "a = 0.0\n",
    "b = 2.0 * np.pi\n",
    "\n",
    "y_0 = np.zeros(2)\n",
    "y_0[0] = 0.0\n",
    "y_0[1] = 1.0\n",
    "nv = 2\n",
    "\n",
    "tolerance = 1.0e-6\n",
    "\n",
    "#perfrom the integration \n",
    "x,y = ck_mv(dydx,a,b,y_0,tolerance)"
   ]
  },
  {
   "cell_type": "markdown",
   "metadata": {},
   "source": [
    "## Plot the result"
   ]
  },
  {
   "cell_type": "code",
   "execution_count": null,
   "metadata": {},
   "outputs": [],
   "source": [
    "plt.plot(x,y[:,0],'o',label='y(x)')\n",
    "plt.plot(x,y[:,1],'o',label='dydx(x)')\n",
    "xx = np.linspace(0,2.0*np.pi,1000)\n",
    "plt.plot(xx,np.sin(xx),label='sin(x)')\n",
    "plt.plot(xx,np.cos(xx),label='cos(x)')\n",
    "plt.xlabel('x')\n",
    "plt.ylabel('y, dy/dx')\n",
    "plt.legend(frameon=False)\n",
    "\n",
    "\n",
    "err_y = y[:,0] - np.sin(x)\n",
    "err_dydx = y[:,1] - np.cos(x)"
   ]
  },
  {
   "cell_type": "markdown",
   "metadata": {},
   "source": [
    "## Plot the error"
   ]
  },
  {
   "cell_type": "code",
   "execution_count": null,
   "metadata": {},
   "outputs": [],
   "source": [
    "err_y = y[:,0] - np.sin(x)\n",
    "err_dydx = y[:,1] - np.cos(x)\n",
    "\n",
    "plt.plot(x,err_y, label='y(x) error')\n",
    "plt.plot(x,err_dydx, label='dydx(x) error')\n",
    "\n",
    "plt.xlabel('x')\n",
    "plt.ylabel('y(x) error, dydx(x) error')\n",
    "plt.legend(frameon=False)"
   ]
  },
  {
   "cell_type": "code",
   "execution_count": null,
   "metadata": {},
   "outputs": [],
   "source": []
  }
 ],
 "metadata": {
  "kernelspec": {
   "display_name": "Python 3",
   "language": "python",
   "name": "python3"
  },
  "language_info": {
   "codemirror_mode": {
    "name": "ipython",
    "version": 3
   },
   "file_extension": ".py",
   "mimetype": "text/x-python",
   "name": "python",
   "nbconvert_exporter": "python",
   "pygments_lexer": "ipython3",
   "version": "3.8.5"
  }
 },
 "nbformat": 4,
 "nbformat_minor": 4
}
